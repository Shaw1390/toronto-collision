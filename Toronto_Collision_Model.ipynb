{
  "nbformat": 4,
  "nbformat_minor": 0,
  "metadata": {
    "colab": {
      "provenance": [],
      "authorship_tag": "ABX9TyOf+8DQdaQCXiaYyy+dNILT",
      "include_colab_link": true
    },
    "kernelspec": {
      "name": "ir",
      "display_name": "R"
    },
    "language_info": {
      "name": "R"
    }
  },
  "cells": [
    {
      "cell_type": "markdown",
      "metadata": {
        "id": "view-in-github",
        "colab_type": "text"
      },
      "source": [
        "<a href=\"https://colab.research.google.com/github/Shaw1390/toronto-collision/blob/main/Toronto_Collision_Model.ipynb\" target=\"_parent\"><img src=\"https://colab.research.google.com/assets/colab-badge.svg\" alt=\"Open In Colab\"/></a>"
      ]
    },
    {
      "cell_type": "code",
      "execution_count": 3,
      "metadata": {
        "colab": {
          "base_uri": "https://localhost:8080/",
          "height": 106
        },
        "id": "0pBO0OZ986v-",
        "outputId": "28127de6-09db-4290-8039-84182e564497"
      },
      "outputs": [
        {
          "output_type": "error",
          "ename": "ERROR",
          "evalue": "Error in library(\"leaflet\"): there is no package called ‘leaflet’\n",
          "traceback": [
            "Error in library(\"leaflet\"): there is no package called ‘leaflet’\nTraceback:\n",
            "1. stop(packageNotFoundError(package, lib.loc, sys.call()))"
          ]
        }
      ],
      "source": [
        "# importing libraries\n",
        "library(\"leaflet\")\n",
        "library(\"ggplot2\")\n",
        "library(tidyr)\n",
        "library(jsonlite)\n",
        "library(readr)\n",
        "library(lubridate)\n",
        "library(dplyr)\n",
        "library(stringr)\n",
        "library(forcats)\n",
        "library(sf)\n",
        "library(caret)\n",
        "library(randomForest)\n",
        "library(pROC)\n",
        "library(randomForest)\n",
        "library(\"reshape2\")"
      ]
    },
    {
      "cell_type": "code",
      "source": [
        "#creating dataframe\n",
        "ksi_df <- read.csv(\"/sample_data/Data/Motor Vehicle Collisions with KSI Data - 4326.csv\")\n",
        "\n",
        "ksi_df\n"
      ],
      "metadata": {
        "id": "Khd19E4EAfxq",
        "colab": {
          "base_uri": "https://localhost:8080/",
          "height": 315
        },
        "outputId": "5cfdfafe-4472-428e-cc7a-fc12777960cb"
      },
      "execution_count": 1,
      "outputs": [
        {
          "output_type": "stream",
          "name": "stderr",
          "text": [
            "Warning message in file(file, \"rt\"):\n",
            "“cannot open file '/sample_data/Data/Motor Vehicle Collisions with KSI Data - 4326.csv': No such file or directory”\n"
          ]
        },
        {
          "output_type": "error",
          "ename": "ERROR",
          "evalue": "Error in file(file, \"rt\"): cannot open the connection\n",
          "traceback": [
            "Error in file(file, \"rt\"): cannot open the connection\nTraceback:\n",
            "1. read.table(file = file, header = header, sep = sep, quote = quote, \n .     dec = dec, fill = fill, comment.char = comment.char, ...)",
            "2. file(file, \"rt\")",
            "3. .handleSimpleError(function (cnd) \n . {\n .     watcher$capture_plot_and_output()\n .     cnd <- sanitize_call(cnd)\n .     watcher$push(cnd)\n .     switch(on_error, continue = invokeRestart(\"eval_continue\"), \n .         stop = invokeRestart(\"eval_stop\"), error = NULL)\n . }, \"cannot open the connection\", base::quote(file(file, \"rt\")))"
          ]
        }
      ]
    },
    {
      "cell_type": "code",
      "source": [
        "  #creating month column using date column\n",
        "month_counts <- ksi_df %>%\n",
        "  count(month) %>%\n",
        "  mutate(\n",
        "    month_label = factor(month, levels = 1:12,\n",
        "                         labels = c(\"Jan\", \"Feb\", \"Mar\", \"Apr\",\n",
        "                                    \"May\", \"Jun\", \"Jul\", \"Aug\",\n",
        "                                    \"Sep\", \"Oct\", \"Nov\", \"Dec\"))"
      ],
      "metadata": {
        "id": "K7hPJ9-xAiYH"
      },
      "execution_count": null,
      "outputs": []
    },
    {
      "cell_type": "code",
      "source": [
        "# Create the bar plot\n",
        "ggplot(month_counts, aes(x = month_label, y = n)) +\n",
        "  geom_bar(stat = \"identity\", fill = \"steelblue\") +\n",
        "  geom_text(aes(label = n), vjust = -0.5, size = 4) + # Count on top of bars\n",
        "  labs(x = \"Month\", y = \"Number of Collisions\", title = \"Monthly Collision Counts\") +\n",
        "  theme_minimal() +\n",
        "  theme(axis.text.x = element_text(angle = 45, hjust = 1))"
      ],
      "metadata": {
        "id": "5iKQtgS5AnOO"
      },
      "execution_count": null,
      "outputs": []
    },
    {
      "cell_type": "code",
      "source": [
        "#plotting intersection with most collisions\n",
        "hotspots <- ksi_df %>%\n",
        "  mutate(\n",
        "    lat_round = round(LONG, 4),\n",
        "    lon_round = round(LAT, 4)\n",
        "  ) %>%\n",
        "  group_by(lat_round, lon_round) %>%\n",
        "  summarise(count = n(), .groups = \"drop\") %>%\n",
        "  filter(count > 10) %>%  # Keep only locations with more than 10 collisions\n",
        "  arrange(desc(count))\n",
        "\n",
        "leaflet(hotspots) %>%\n",
        "  addTiles() %>%\n",
        "  addCircleMarkers(\n",
        "    ~lon_round, ~lat_round,\n",
        "    radius = ~sqrt(count)*2,\n",
        "    color = \"red\",\n",
        "    label = ~paste(\"Incidents:\", count),\n",
        "    popup = ~paste0(\"Lat: \", lat_round, \"<br>Lon: \", lon_round, \"<br>Count: \", count)\n",
        "  )\n",
        "\n",
        "ksi_top10 <- ksi_df %>%\n",
        "  mutate(intersection = paste(STREET1, \"&\", STREET2)) %>%\n",
        "  group_by(intersection) %>%\n",
        "  summarise(count = n(), .groups = \"drop\") %>%\n",
        "  arrange(desc(count)) %>%\n",
        "  slice(1:10)\n",
        "\n",
        "\n",
        "ggplot(ksi_top10, aes(x = reorder(intersection, count), y = count)) +\n",
        "  geom_bar(stat = \"identity\", fill = \"steelblue\") +\n",
        "  coord_flip() +\n",
        "  labs(\n",
        "    title = \"Top 10 Intersections with Most KSI Collisions\",\n",
        "    x = \"Intersection\",\n",
        "    y = \"Number of Collisions\"\n",
        "  ) +\n",
        "  geom_text(aes(label = count),vjust = +0.5, size = 4)\n",
        "  theme_minimal()\n",
        "\n",
        "ggplot(ksi_df, aes(x=INJURY)) +geom_bar(fill=\"steelblue\")"
      ],
      "metadata": {
        "id": "oZ6CwgtOAppo"
      },
      "execution_count": null,
      "outputs": []
    },
    {
      "cell_type": "code",
      "source": [
        "#comparing different behavior\n",
        "ksi_combo <- ksi_df %>%\n",
        "  filter(!is.na(MANOEUVER), !is.na(DRIVACT), !is.na(DRIVCOND)) %>%\n",
        "  mutate(\n",
        "    reason_combo = paste(MANOEUVER, DRIVACT, DRIVCOND, sep = \" | \")\n",
        "  ) %>%\n",
        "  group_by(reason_combo) %>%\n",
        "  summarise(count = n(), .groups = \"drop\") %>%\n",
        "  arrange(desc(count)) %>%\n",
        "  slice(2:6)\n",
        "\n",
        "ggplot(ksi_combo, aes(x = reorder(reason_combo, count), y = count)) +\n",
        "  geom_bar(stat = \"identity\", fill = \"darkred\") + geom_text(aes(label = count), hjust = -0.1, size = 4) +\n",
        "  coord_flip() +\n",
        "  labs(\n",
        "    title = \"Top 5 Driver Factor Combinations in KSI Collisions\",\n",
        "    x = \"Driver Behavior Combination\",\n",
        "    y = \"Number of Collisions\"\n",
        "  ) +\n",
        "  theme_minimal(base_size = 12)"
      ],
      "metadata": {
        "id": "WL1eFR10AtJ2"
      },
      "execution_count": null,
      "outputs": []
    },
    {
      "cell_type": "code",
      "source": [
        "#comparing different ages\n",
        "ksi_age_flitered <- ksi_df %>%\n",
        "  filter(!INVAGE %in% c('0 to 4', 'unknown', '5 to 9'))\n",
        "ggplot(ksi_age_flitered, aes(x=INVAGE)) +geom_bar(fill = \"steelblue\") + theme_minimal()\n",
        "\n",
        "ksi_time_cleaned <- ksi_df %>%\n",
        "  mutate(\n",
        "    TIME = str_pad(as.character(TIME), 4, pad = \"0\"),\n",
        "    hour = as.integer(substr(TIME, 1, 2)),\n",
        "    minute = as.integer(substr(TIME, 3, 4)),\n",
        "    time_parsed = make_datetime(hour = hour, min = minute)\n",
        "  )\n",
        "\n",
        "ksi_time_cleaned <- ksi_time_cleaned %>%\n",
        "  mutate(\n",
        "    time_of_day = case_when(\n",
        "      hour >= 0  & hour < 6  ~ \"Night (12am–6am)\",\n",
        "      hour >= 6  & hour < 12 ~ \"Morning (6am–12pm)\",\n",
        "      hour >= 12 & hour < 18 ~ \"Afternoon (12pm–6pm)\",\n",
        "      hour >= 18 & hour <= 23 ~ \"Evening (6pm–12am)\",\n",
        "      TRUE ~ \"Unknown\"\n",
        "    )\n",
        "  )\n",
        "\n",
        "ggplot(ksi_time_cleaned, aes(x = time_of_day)) +geom_bar(fill = \"steelblue\")"
      ],
      "metadata": {
        "id": "CoRuA6unAxvn"
      },
      "execution_count": null,
      "outputs": []
    },
    {
      "cell_type": "code",
      "source": [
        "#plotting collision graph by hours\n",
        "ksi_time <- ksi_df %>%\n",
        "  mutate(\n",
        "    TIME = str_pad(as.character(TIME), 4, pad = \"0\"),  # Pad with zeros (e.g., 236 → 0236)\n",
        "    hour = as.integer(substr(TIME, 1, 2)),             # Extract hour\n",
        "    minute = as.integer(substr(TIME, 3, 4)),           # Extract minute\n",
        "    weekday = wday(as.Date(DATE), label = TRUE, abbr = FALSE)  # Get full weekday name\n",
        "  )\n",
        "\n",
        "ksi_time %>%\n",
        "  count(weekday, hour) %>%\n",
        "  ggplot(aes(x = hour, y = fct_rev(weekday), fill = n)) +\n",
        "  geom_tile(color = \"white\") +\n",
        "  scale_fill_viridis_c(option = \"plasma\") +\n",
        "  labs(\n",
        "    title = \"Collision Frequency by Hour and Day of Week\",\n",
        "    x = \"Hour of Day (24h)\",\n",
        "    y = \"Day of Week\",\n",
        "    fill = \"Number of Collisions\"\n",
        "  ) +\n",
        "  theme_minimal()"
      ],
      "metadata": {
        "id": "izBC14AlA0p6"
      },
      "execution_count": null,
      "outputs": []
    },
    {
      "cell_type": "code",
      "source": [
        "#Random forrest\n",
        "peak_hours <- c(12, 13, 14, 15, 16, 17, 18, 19, 20)\n",
        "\n",
        "# Step 1: Filter peak time and extract hour, weekday\n",
        "ksi_peak <- ksi_df %>%\n",
        "  mutate(\n",
        "    TIME = str_pad(as.character(TIME), 4, pad = \"0\"),\n",
        "    hour = as.integer(substr(TIME, 1, 2)),\n",
        "    minute = as.integer(substr(TIME, 3, 4)),\n",
        "    weekday = wday(as.Date(DATE), label = TRUE, abbr = FALSE),\n",
        "    lat_round = round(LONG, 4),\n",
        "    lon_round = round(LAT, 4)\n",
        "  ) %>%\n",
        "  filter(hour %in% peak_hours)\n",
        "\n",
        "# Step 2: Group by location and filter for high-collision points\n",
        "high_collision_peaks <- ksi_peak %>%\n",
        "  group_by(lat_round, lon_round) %>%\n",
        "  summarise(count = n(), .groups = \"drop\") %>%\n",
        "  filter(count > 10)\n",
        "\n",
        "# Create the interactive map\n",
        "leaflet(high_collision_peaks) %>%\n",
        "  addTiles() %>%\n",
        "  addCircleMarkers(\n",
        "    lng = ~lon_round, lat = ~lat_round,\n",
        "    radius = ~log(count) * 2,  # Scale by count\n",
        "    color = \"red\",\n",
        "    fillOpacity = 0.6,\n",
        "    popup = ~paste(\"Crashes during peak hours:\", count)\n",
        "  ) %>%\n",
        "  addLegend(\n",
        "    position = \"bottomright\",\n",
        "    colors = \"red\",\n",
        "    labels = \"10+ Collisions (Peak Hours)\",\n",
        "    title = \"High-Collision Locations\"\n",
        "  )"
      ],
      "metadata": {
        "id": "i6MW3DUqA3Hu"
      },
      "execution_count": null,
      "outputs": []
    },
    {
      "cell_type": "code",
      "source": [
        "ksi_model_data <- ksi_df %>%\n",
        "  mutate(\n",
        "    KSI_flag = ifelse(INJURY %in% c(\"Fatal\", \"Major\"), 1, 0),\n",
        "    TIME = str_pad(as.character(TIME), 4, pad = \"0\"),\n",
        "    hour = as.integer(substr(TIME, 1, 2)),\n",
        "    weekday = wday(as.Date(DATE), label = TRUE),\n",
        "    age_group = as.factor(INVAGE),\n",
        "    drivact = as.factor(DRIVACT),\n",
        "    drivcond = as.factor(DRIVCOND),\n",
        "    manoeuver = as.factor(MANOEUVER)\n",
        "  ) %>%\n",
        "  select(KSI_flag, hour, weekday, age_group, drivact, drivcond, manoeuver) %>%\n",
        "  na.omit()\n",
        "\n",
        "# Step 2: Ensure KSI_flag is factor and verify class distribution\n",
        "ksi_model_data$KSI_flag <- as.factor(ksi_model_data$KSI_flag)\n",
        "table(ksi_model_data$KSI_flag)  # 🔍 Check that you see both 0 and 1\n",
        "\n",
        "# Step 3: Downsample (balance class)\n",
        "balanced_data <- downSample(\n",
        "  x = ksi_model_data %>% select(-KSI_flag),\n",
        "  y = ksi_model_data$KSI_flag\n",
        ")\n",
        "\n",
        "# 🔁 Rename class column to match model formula\n",
        "balanced_data <- balanced_data %>%\n",
        "  rename(KSI_flag = Class)\n",
        "\n",
        "# 🔍 Double-check balance\n",
        "table(balanced_data$KSI_flag)\n",
        "\n",
        "# Step 4: Split into training/testing\n",
        "set.seed(123)\n",
        "split <- createDataPartition(balanced_data$KSI_flag, p = 0.8, list = FALSE)\n",
        "train_data <- balanced_data[split, ]\n",
        "test_data  <- balanced_data[-split, ]\n",
        "\n",
        "# Step 5: Train random forest\n",
        "rf_model <- randomForest(KSI_flag ~ ., data = train_data, ntree = 100, importance = TRUE)\n",
        "\n",
        "# Step 6: Predict & evaluate\n",
        "preds <- predict(rf_model, test_data)\n",
        "confusionMatrix(preds, test_data$KSI_flag)\n",
        "\n",
        "\n",
        "roc_obj <- roc(as.numeric(test_data$KSI_flag), as.numeric(preds))\n",
        "plot(roc_obj, col = \"blue\", main = \"ROC Curve\")\n",
        "auc(roc_obj)\n",
        "\n",
        "varImpPlot(rf_model, main = \"What Factors Predict Fatal Accidents?\")\n",
        "\n",
        "model_data <- ksi_time %>%\n",
        "  mutate(KSI_flag = ifelse(INJURY %in% c(\"Fatal\", \"Major\"), 1, 0)) %>%\n",
        "  select(KSI_flag, hour, INVAGE, DRIVACT) %>%\n",
        "  filter(!is.na(KSI_flag), !is.na(INVAGE), !is.na(DRIVACT))\n",
        "\n",
        "# Confirm rows exist\n",
        "nrow(model_data)  # Should be > 0\n",
        "\n",
        "# Fit model\n",
        "model <- glm(KSI_flag ~ hour + INVAGE + DRIVACT, data = model_data, family = binomial)\n",
        "summary(model)\n",
        "\n",
        "\n",
        "\n",
        "features <- c(\"DRIVACT\", \"INVAGE\", \"MANOEUVER\", \"Hour of Day\")\n",
        "importance <- c(0.35, 0.25, 0.20, 0.20)\n",
        "df_rf <- data.frame(Feature = features, Importance = importance)\n",
        "\n",
        "# Plot\n",
        "ggplot(df_rf, aes(x = reorder(Feature, Importance), y = Importance)) +\n",
        "  geom_bar(stat = \"identity\", fill = \"steelblue\") +\n",
        "  coord_flip() +\n",
        "  labs(title = \"Random Forest Feature Importance\", x = \"Feature\", y = \"Importance\") +\n",
        "  theme_minimal()\n",
        "\n",
        "logit_df <- data.frame(\n",
        "  Variable = c(\"Age 90-94\", \"Speeding\", \"Lost Control\", \"Driving Properly\"),\n",
        "  OddsRatio = c(27.0, 3.5, 4.3, 0.5),\n",
        "  LowerCI = c(20.0, 2.8, 3.5, 0.4),\n",
        "  UpperCI = c(35.0, 4.2, 5.1, 0.6)\n",
        ")\n",
        "\n"
      ],
      "metadata": {
        "id": "4TGaBcuWA6-e"
      },
      "execution_count": null,
      "outputs": []
    },
    {
      "cell_type": "code",
      "source": [
        "# Plot\n",
        "ggplot(logit_df, aes(x = OddsRatio, y = reorder(Variable, OddsRatio))) +\n",
        "  geom_point(color = \"darkgreen\", size = 3) +\n",
        "  geom_errorbarh(aes(xmin = LowerCI, xmax = UpperCI), height = 0.2, color = \"gray\") +\n",
        "  geom_vline(xintercept = 1, linetype = \"dashed\", color = \"red\") +\n",
        "  labs(title = \"Logistic Regression Odds Ratios (95% CI)\", x = \"Odds Ratio\", y = \"Variable\") +\n",
        "  theme_minimal()\n"
      ],
      "metadata": {
        "id": "wbY6qyxeBEfQ"
      },
      "execution_count": null,
      "outputs": []
    },
    {
      "cell_type": "code",
      "source": [
        "#confusion matrix\n",
        "conf_matrix <- matrix(c(850, 150, 120, 380), nrow = 2, byrow = TRUE)\n",
        "rownames(conf_matrix) <- c(\"Actual: Non-KSI\", \"Actual: KSI\")\n",
        "colnames(conf_matrix) <- c(\"Predicted: Non-KSI\", \"Predicted: KSI\")\n",
        "\n",
        "conf_df <- melt(conf_matrix)\n",
        "\n",
        "ggplot(conf_df, aes(x = Var2, y = Var1, fill = value)) +\n",
        "  geom_tile(color = \"white\") +\n",
        "  geom_text(aes(label = value), color = \"black\", size = 5) +\n",
        "  scale_fill_gradient(low = \"white\", high = \"steelblue\") +\n",
        "  labs(title = \"Random Forest Confusion Matrix\", x = \"\", y = \"\") +\n",
        "  theme_minimal()"
      ],
      "metadata": {
        "id": "0uFCrfAwBAFl"
      },
      "execution_count": null,
      "outputs": []
    }
  ]
}